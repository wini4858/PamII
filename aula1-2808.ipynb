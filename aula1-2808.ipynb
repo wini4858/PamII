{
  "nbformat": 4,
  "nbformat_minor": 0,
  "metadata": {
    "colab": {
      "provenance": [],
      "authorship_tag": "ABX9TyOwYZtlJFlWIny+CoPBfzNg",
      "include_colab_link": true
    },
    "kernelspec": {
      "name": "python3",
      "display_name": "Python 3"
    },
    "language_info": {
      "name": "python"
    }
  },
  "cells": [
    {
      "cell_type": "markdown",
      "metadata": {
        "id": "view-in-github",
        "colab_type": "text"
      },
      "source": [
        "<a href=\"https://colab.research.google.com/github/wini4858/PamII/blob/main/aula1-2808.ipynb\" target=\"_parent\"><img src=\"https://colab.research.google.com/assets/colab-badge.svg\" alt=\"Open In Colab\"/></a>"
      ]
    },
    {
      "cell_type": "code",
      "execution_count": 12,
      "metadata": {
        "colab": {
          "base_uri": "https://localhost:8080/"
        },
        "id": "bzDWr-1vN81C",
        "outputId": "bb0d5cfd-ff60-439f-d167-049b0ddc27d1"
      },
      "outputs": [
        {
          "output_type": "stream",
          "name": "stdout",
          "text": [
            "        *    \n",
            "        .    \n",
            "       ...    \n",
            "      .....\n",
            "     .......\n",
            "    .........\n",
            "   ...........\n",
            "  .............\n",
            " ...............\n",
            ".................\n",
            "       ...\n",
            "       ...\n",
            "      .....\n",
            "       ...\n"
          ]
        }
      ],
      "source": [
        "print (\"        *\")\n",
        "print (\"        .\")\n",
        "print (\"       ...\")\n",
        "print (\"      .....\")\n",
        "print (\"     .......\")\n",
        "print (\"    .........\")\n",
        "print (\"   ...........\")\n",
        "print (\"  .............\")\n",
        "print (\" ...............\")\n",
        "print (\".................\")\n",
        "print (\"       ...\")\n",
        "print (\"       ...\")\n",
        "print (\"      .....\")\n",
        "print (\"       ...\")\n"
      ]
    }
  ]
}